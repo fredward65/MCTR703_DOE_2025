{
 "cells": [
  {
   "cell_type": "markdown",
   "metadata": {},
   "source": [
    "### Fractional Factorial\n",
    "\n",
    "Improving upon Full Factorial"
   ]
  },
  {
   "cell_type": "markdown",
   "metadata": {},
   "source": [
    "#### Toy Example\n",
    "\n",
    "4 factors (A, B, C, D = AxB)"
   ]
  },
  {
   "cell_type": "code",
   "execution_count": null,
   "metadata": {},
   "outputs": [],
   "source": [
    "%matplotlib widget\n",
    "# Dependencies\n",
    "import matplotlib.pyplot as plt\n",
    "import numpy as np\n",
    "import pandas as pd\n",
    "\n",
    "# Settings\n",
    "np.set_printoptions(precision=3)"
   ]
  },
  {
   "cell_type": "code",
   "execution_count": null,
   "metadata": {},
   "outputs": [],
   "source": [
    "\"\"\" Generate Fractional Factorial Design \"\"\"\n",
    "# Define number of factors (excluding interaction)\n",
    "n_factors = 3\n",
    "levels = np.array([-1, 1])\n",
    "\n",
    "# Generate all 2^3 combinations of A, B, C\n",
    "n_runs = 2 ** n_factors\n",
    "ABC = 2 * np.array([list(np.binary_repr(i, width=n_factors)) for i in range(n_runs)], dtype=int) - 1\n",
    "# Create DataFrame\n",
    "design = pd.DataFrame(ABC, columns=['A', 'B', 'C'])\n",
    "\n",
    "# Define D as the product A*B\n",
    "design['D'] = design['A'] * design['B']\n",
    "design.insert(0, 'Run', np.arange(1, n_runs + 1))\n",
    "\n",
    "print(\"Fractional Factorial Design (2^(4-1), D=AxB)\")\n",
    "display(design)"
   ]
  },
  {
   "cell_type": "code",
   "execution_count": null,
   "metadata": {},
   "outputs": [],
   "source": [
    "\"\"\" Simulate Toy Model \"\"\"\n",
    "np.random.seed(42)\n",
    "noise = np.random.normal(0, 2, n_runs)\n",
    "\n",
    "design['Y'] = (5\n",
    "               + 2 * design['A']\n",
    "               + 3 * design['B']\n",
    "               - 1.5 * design['C']\n",
    "               + 1.2 * design['A'] * design['B']\n",
    "               + 0.5 * design['B'] * design['C']\n",
    "               + noise)\n",
    "\n",
    "display(design)"
   ]
  },
  {
   "cell_type": "code",
   "execution_count": null,
   "metadata": {},
   "outputs": [],
   "source": [
    "import statsmodels.api as sm\n",
    "from statsmodels.formula.api import ols\n",
    "\n",
    "\"\"\" Fit model \"\"\"\n",
    "model = ols('Y ~ A + B + C + D', data=design).fit()\n",
    "anova_table = sm.stats.anova_lm(model, typ=2)\n",
    "\n",
    "print(\"ANOVA Table\")\n",
    "display(anova_table)"
   ]
  },
  {
   "cell_type": "code",
   "execution_count": null,
   "metadata": {},
   "outputs": [],
   "source": [
    "from statsmodels.graphics.factorplots import interaction_plot\n",
    "\n",
    "\"\"\" Plot main effects and interaction \"\"\"\n",
    "# Main effects\n",
    "fig = plt.figure(figsize=(10, 4))\n",
    "ax = fig.add_subplot(1, 2, 1)\n",
    "ax.set_title(\"Main Effects on Y\")\n",
    "columns = ['A', 'B', 'C', 'D']\n",
    "for col in columns:\n",
    "    means = design.groupby(col)['Y'].mean()\n",
    "    ax.plot(means.index, means.values, '-o', label=col)\n",
    "ax.set_xlabel('Factor Level')\n",
    "ax.set_ylabel('Mean Response')\n",
    "ax.set_xticks([-1,0,1])\n",
    "ax.legend()\n",
    "# Interaction\n",
    "ax = fig.add_subplot(1, 2, 2)\n",
    "interaction_plot(design['A'], design['B'], design['Y'], colors=['red', 'blue'], ax=ax)\n",
    "ax.set_title('Interaction: AxB')\n",
    "ax.set_xticks([-1,0,1])\n",
    "fig.tight_layout()"
   ]
  },
  {
   "cell_type": "code",
   "execution_count": null,
   "metadata": {},
   "outputs": [],
   "source": [
    "\"\"\" Coefficients and Residuals \"\"\"\n",
    "print('Regression Coefficients:')\n",
    "display(model.params)\n",
    "print('Residual Summary:')\n",
    "display(model.resid.describe())\n",
    "\n",
    "fig = plt.figure(figsize=(5, 4))\n",
    "ax = fig.add_subplot()\n",
    "ax.scatter(model.fittedvalues, model.resid)\n",
    "ax.axhline(0, color='r', linestyle='--', linewidth=1)\n",
    "ax.set_xlabel('Fitted values')\n",
    "ax.set_ylabel('Residuals')\n",
    "ax.set_title('Residual Plot')"
   ]
  },
  {
   "cell_type": "markdown",
   "metadata": {},
   "source": [
    "### Optimising from Obtained Model"
   ]
  },
  {
   "cell_type": "code",
   "execution_count": null,
   "metadata": {},
   "outputs": [],
   "source": [
    "from scipy.optimize import minimize\n",
    "\n",
    "def model_prediction(x):\n",
    "    df = pd.DataFrame([x], columns=columns)\n",
    "    return model.predict(df)[0]\n",
    "\n",
    "# Initial guess (centre point)\n",
    "x0 = [0, 0, 0, 0]\n",
    "\n",
    "# Bounds for each factor\n",
    "bounds = [(-1, 1)] * 4\n",
    "\n",
    "# Minimise the predicted response\n",
    "res_min = minimize(model_prediction, x0=x0, bounds=bounds)\n",
    "print('Minimum predicted Y at:', res_min.x)\n",
    "print('Predicted Y:', res_min.fun)\n",
    "\n",
    "# Maximise (by minimizing the negative)\n",
    "res_max = minimize(lambda x: -model_prediction(x), x0=x0, bounds=bounds)\n",
    "print('Maximum predicted Y at:', res_max.x)\n",
    "print('Predicted Y:', -res_max.fun)"
   ]
  }
 ],
 "metadata": {
  "kernelspec": {
   "display_name": "base",
   "language": "python",
   "name": "python3"
  },
  "language_info": {
   "codemirror_mode": {
    "name": "ipython",
    "version": 3
   },
   "file_extension": ".py",
   "mimetype": "text/x-python",
   "name": "python",
   "nbconvert_exporter": "python",
   "pygments_lexer": "ipython3",
   "version": "3.11.9"
  }
 },
 "nbformat": 4,
 "nbformat_minor": 2
}
