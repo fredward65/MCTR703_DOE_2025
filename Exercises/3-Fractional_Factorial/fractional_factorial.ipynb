{
 "cells": [
  {
   "cell_type": "markdown",
   "metadata": {},
   "source": [
    "### Fractional Factorial\n",
    "\n",
    "Improving upon Full Factorial"
   ]
  },
  {
   "cell_type": "markdown",
   "metadata": {},
   "source": [
    "#### Toy Example\n",
    "\n",
    "4 factors (A, B, C, D = AxBxC)"
   ]
  },
  {
   "cell_type": "code",
   "execution_count": 1,
   "metadata": {},
   "outputs": [],
   "source": [
    "%matplotlib widget\n",
    "# Dependencies\n",
    "import matplotlib.pyplot as plt\n",
    "import numpy as np\n",
    "import pandas as pd\n",
    "\n",
    "# Settings\n",
    "np.set_printoptions(precision=3)"
   ]
  },
  {
   "cell_type": "code",
   "execution_count": null,
   "metadata": {},
   "outputs": [],
   "source": [
    "\"\"\" Generate Fractional Factorial Design \"\"\"\n",
    "# Define number of factors (excluding D)\n",
    "n_factors = 3\n",
    "levels = np.array([-1, 1])\n",
    "\n",
    "# Generate all 2^3 combinations of A, B, C\n",
    "n_runs = 2 ** n_factors\n",
    "ABC = 2 * np.array([list(np.binary_repr(i, width=n_factors)) for i in range(n_runs)], dtype=int) - 1\n",
    "# Create DataFrame\n",
    "design = pd.DataFrame(ABC, columns=['A', 'B', 'C'])\n",
    "# Define D as the product A*B*C\n",
    "design['D'] = design['A'] * design['B'] * design['C']\n",
    "design.insert(0, 'Run', np.arange(1, n_runs + 1))\n",
    "\n",
    "print(\"Fractional Factorial Design (2^(4-1), D = AxBxC)\")\n",
    "display(design)"
   ]
  },
  {
   "cell_type": "code",
   "execution_count": null,
   "metadata": {},
   "outputs": [],
   "source": [
    "\"\"\" Simulate Toy Model \"\"\"\n",
    "np.random.seed(42)\n",
    "noise = np.random.normal(0, 2, n_runs)\n",
    "\n",
    "design['Y'] = (50\n",
    "               + 5 * design['A']\n",
    "               + 3 * design['B']\n",
    "               + 2 * design['C']\n",
    "               + 4 * design['A'] * design['B']\n",
    "               + noise)\n",
    "\n",
    "display(design)"
   ]
  },
  {
   "cell_type": "code",
   "execution_count": null,
   "metadata": {},
   "outputs": [],
   "source": [
    "import statsmodels.api as sm\n",
    "from statsmodels.formula.api import ols\n",
    "\n",
    "\"\"\" Fit model \"\"\"\n",
    "model = ols('Y ~ A + B + C + D', data=design).fit()\n",
    "anova_table = sm.stats.anova_lm(model, typ=2)\n",
    "\n",
    "print(\"ANOVA Table\")\n",
    "display(anova_table)"
   ]
  },
  {
   "cell_type": "code",
   "execution_count": null,
   "metadata": {},
   "outputs": [],
   "source": [
    "from statsmodels.graphics.factorplots import interaction_plot\n",
    "\n",
    "\"\"\" Plot main effects and interaction \"\"\"\n",
    "# Main effects\n",
    "fig = plt.figure(figsize=(10, 4))\n",
    "ax = fig.add_subplot(1, 2, 1)\n",
    "ax.set_title(\"Main Effects on Y\")\n",
    "for col in ['A', 'B', 'C', 'D']:\n",
    "    means = design.groupby(col)['Y'].mean()\n",
    "    ax.plot(means.index, means.values, '-o', label=col)\n",
    "ax.set_xlabel('Factor Level')\n",
    "ax.set_ylabel('Mean Response')\n",
    "ax.set_xticks([-1,0,1])\n",
    "ax.legend()\n",
    "# Interaction\n",
    "ax = fig.add_subplot(1, 2, 2)\n",
    "interaction_plot(design['A'], design['B'], design['Y'], colors=['red', 'blue'], ax=ax)\n",
    "ax.set_title('Interaction: AxB')\n",
    "ax.set_xticks([-1,0,1])\n",
    "fig.tight_layout()"
   ]
  },
  {
   "cell_type": "code",
   "execution_count": null,
   "metadata": {},
   "outputs": [],
   "source": [
    "\"\"\" Coefficients and Residuals \"\"\"\n",
    "print(\"Regression Coefficients:\")\n",
    "display(model.params)\n",
    "print(\"Residual Summary:\")\n",
    "display(model.resid.describe())\n",
    "\n",
    "fig = plt.figure(figsize=(5, 4))\n",
    "ax = fig.add_subplot()\n",
    "ax.scatter(model.fittedvalues, model.resid)\n",
    "ax.axhline(0, color='black', linewidth=1)\n",
    "ax.set_xlabel(\"Fitted values\")\n",
    "ax.set_ylabel(\"Residuals\")\n",
    "ax.set_title(\"Residual Plot\")"
   ]
  }
 ],
 "metadata": {
  "kernelspec": {
   "display_name": "base",
   "language": "python",
   "name": "python3"
  },
  "language_info": {
   "codemirror_mode": {
    "name": "ipython",
    "version": 3
   },
   "file_extension": ".py",
   "mimetype": "text/x-python",
   "name": "python",
   "nbconvert_exporter": "python",
   "pygments_lexer": "ipython3",
   "version": "3.11.9"
  }
 },
 "nbformat": 4,
 "nbformat_minor": 2
}
