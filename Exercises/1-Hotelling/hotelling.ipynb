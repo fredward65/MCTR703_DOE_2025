{
 "cells": [
  {
   "cell_type": "markdown",
   "metadata": {},
   "source": [
    "### Design of Experiments\n",
    "#### Hotelling's Weighin Problem\n",
    "\n",
    "Weighing three objects using a pan scale over four measurements"
   ]
  },
  {
   "cell_type": "code",
   "execution_count": null,
   "metadata": {},
   "outputs": [],
   "source": [
    "%matplotlib widget\n",
    "# Dependencies\n",
    "import matplotlib.pyplot as plt\n",
    "import numpy as np\n",
    "\n",
    "# Settings\n",
    "np.set_printoptions(precision=3)"
   ]
  },
  {
   "cell_type": "code",
   "execution_count": null,
   "metadata": {},
   "outputs": [],
   "source": [
    "class HotellingExperiment(object):\n",
    "    \"\"\"\n",
    "    A class for running the Hotelling's Weighing Experiment\n",
    "    \"\"\"\n",
    "    def __init__(self):\n",
    "        np.random.seed(42)\n",
    "        self.__weights = 25 * np.random.rand(3, 1)\n",
    "        self.__design = None\n",
    "\n",
    "    def set_design(self, design = np.zeros((4,3))):\n",
    "        self.__design = design\n",
    "\n",
    "    def run_experiment(self):\n",
    "        if self.__design is None:\n",
    "            print(\"A design must be assigned\")\n",
    "            return None, None\n",
    "        print(\"Running experiment...\")\n",
    "        measurements = np.dot(self.__design, self.__weights + np.random.normal(0,1,self.__weights.shape))\n",
    "        a_ij = np.linalg.inv(np.dot(self.__design.T, self.__design))\n",
    "        estimates = np.dot(a_ij, np.dot(self.__design.T, measurements))\n",
    "        return estimates\n",
    "    \n",
    "    def compare_estimates(self, estimates = np.zeros((3, 1))):\n",
    "        print(\"Error: \", np.linalg.norm(self.__weights - estimates, axis=1))"
   ]
  },
  {
   "cell_type": "code",
   "execution_count": null,
   "metadata": {},
   "outputs": [],
   "source": [
    "hotelling = HotellingExperiment()\n",
    "design = np.r_[np.zeros((1,3)), np.diag(np.ones(3))]  # Naive approach\n",
    "hotelling.set_design(design=design)\n",
    "estimates = hotelling.run_experiment()\n",
    "print(\"Naive approach\")\n",
    "[print(f\"Weight {i}: {th:.3f}\") for i, th in enumerate(estimates.ravel())]\n",
    "hotelling.compare_estimates(estimates=estimates)"
   ]
  }
 ],
 "metadata": {
  "kernelspec": {
   "display_name": "venv",
   "language": "python",
   "name": "python3"
  },
  "language_info": {
   "codemirror_mode": {
    "name": "ipython",
    "version": 3
   },
   "file_extension": ".py",
   "mimetype": "text/x-python",
   "name": "python",
   "nbconvert_exporter": "python",
   "pygments_lexer": "ipython3",
   "version": "3.12.3"
  }
 },
 "nbformat": 4,
 "nbformat_minor": 2
}
