{
 "cells": [
  {
   "cell_type": "markdown",
   "id": "f790eed2",
   "metadata": {},
   "source": [
    "### Python DOE 101\n",
    "Python basics for DOE "
   ]
  },
  {
   "cell_type": "code",
   "execution_count": null,
   "id": "f8ae95b3",
   "metadata": {},
   "outputs": [],
   "source": [
    "%matplotlib widget\n",
    "import numpy as np                  # numpy\n",
    "import matplotlib.pyplot as plt     # matplotlib.pyplot\n",
    "import pandas as pd                 # pandas\n",
    "import statsmodels.api as sm        # statsmodels.api\n",
    "\n",
    "from scipy.optimize import minimize                 # minimize\n",
    "from sklearn.linear_model import LinearRegression   # LinearRegression\n",
    "from statsmodels.formula.api import ols             # ols (Ordinary Least Squares)"
   ]
  },
  {
   "cell_type": "code",
   "execution_count": null,
   "id": "9cce47e9",
   "metadata": {},
   "outputs": [],
   "source": [
    "\"\"\" Generating data using numpy \"\"\"\n",
    "np.random.seed(42)  # Fix random seed \n",
    "# 2D line data\n",
    "x = np.linspace(0, 1, num=5)\n",
    "y0 = x + np.random.normal(0, 1, x.size)\n",
    "z = x * y0\n",
    "\n",
    "# 3D mesh data\n",
    "X, Y = np.meshgrid(x, y0)\n",
    "Z = 2*X + 0.5*Y"
   ]
  },
  {
   "cell_type": "code",
   "execution_count": null,
   "id": "d6a7c1ea",
   "metadata": {},
   "outputs": [],
   "source": [
    "\"\"\" Simple plot using matplotlib.pyplot \"\"\"\n",
    "fig = plt.figure(figsize=(8, 4))\n",
    "\n",
    "# 2D line plot\n",
    "ax2d1 = fig.add_subplot(2,2,1)\n",
    "ax2d1.set_title('2D plot')\n",
    "ax2d1.tick_params('x', labelbottom=False)\n",
    "ax2d1.set_ylabel('$y$')\n",
    "ax2d1.plot(x, y0)\n",
    "ax2d1 = fig.add_subplot(2,2,3)\n",
    "ax2d1.set_xlabel('$x$')\n",
    "ax2d1.set_ylabel('$z$')\n",
    "ax2d1.plot(x, z)\n",
    "\n",
    "# 3D surface plot\n",
    "ax3d = fig.add_subplot(2,2,(2,4),projection='3d')\n",
    "ax3d.set_proj_type('ortho')\n",
    "ax3d.view_init(30, -165)\n",
    "ax3d.set_title('3D plot')\n",
    "ax3d.set_xlabel('$x$')\n",
    "ax3d.set_ylabel('$y$')\n",
    "ax3d.set_zlabel('$z$')\n",
    "ax3d.plot_surface(X, Y, Z, alpha=0.5)\n",
    "ax3d.scatter(X, Y, Z, color='b', alpha=1)\n",
    "\n",
    "plt.tight_layout()\n",
    "plt.show()"
   ]
  },
  {
   "cell_type": "code",
   "execution_count": null,
   "id": "adb24d5d",
   "metadata": {},
   "outputs": [],
   "source": [
    "\"\"\" Experiment Design using numpy and pandas.DataFrame \"\"\"\n",
    "# Factor levels\n",
    "A_levels = np.array([-1, 1])\n",
    "B_levels = np.array([-1, 1])\n",
    "\n",
    "# Number of levels per factor\n",
    "n_A = len(A_levels)\n",
    "n_B = len(B_levels)\n",
    "\n",
    "# Total runs\n",
    "n_runs = n_A * n_B\n",
    "\n",
    "# Create the design matrix columns\n",
    "A = np.repeat(A_levels, n_B)  # Repeat each level B times\n",
    "B = np.tile(B_levels, n_A)    # Tile n_A times\n",
    "print('A:', A)\n",
    "print('B:', B)\n",
    "\n",
    "# Stack columns into a design matrix\n",
    "design = np.column_stack((A, B))\n",
    "print('A B stack')\n",
    "print(design)\n",
    "\n",
    "# Convert to DataFrame\n",
    "df = pd.DataFrame(design, columns=['A', 'B'])\n",
    "display('Design as DataFrame')\n",
    "display(df)"
   ]
  },
  {
   "cell_type": "code",
   "execution_count": null,
   "id": "845b9275",
   "metadata": {},
   "outputs": [],
   "source": [
    "# Replicate treatments (runs = 2*treatments)\n",
    "df = pd.concat([df]*2, ignore_index=True)\n",
    "display('Design as DataFrame after replicating')\n",
    "display(df)"
   ]
  },
  {
   "cell_type": "code",
   "execution_count": null,
   "id": "7bc26c36",
   "metadata": {},
   "outputs": [],
   "source": [
    "# Adding response data\n",
    "np.random.seed(42)\n",
    "def measure_response(x1, x2):\n",
    "    y0 =  0.0\n",
    "    a  =  0.0\n",
    "    b  =  0.0\n",
    "    c  =  2.0\n",
    "    y1 = y0 + a*x1 + b*x2 + c*x1*x2 + np.random.normal(0, 0.1, x1.shape)\n",
    "    return y1\n",
    "df['y'] = measure_response(df['A'], df['B'])\n",
    "display(df)"
   ]
  },
  {
   "cell_type": "code",
   "execution_count": null,
   "id": "bce1ad6a",
   "metadata": {},
   "outputs": [],
   "source": [
    "\"\"\" Model Fitting using statsmodels.OLS \"\"\"\n",
    "# Fit model with all interactions\n",
    "model = ols('y ~ A + B + A:B', data=df).fit()\n",
    "display(model.params)\n",
    "_ = [print(f'B_{i}: {param:.3f}') for i, param in enumerate(model.params)]"
   ]
  },
  {
   "cell_type": "code",
   "execution_count": null,
   "id": "09348547",
   "metadata": {},
   "outputs": [],
   "source": [
    "\"\"\" Analysis of Variance using statsmodels.stats.anova_lm (ANOVA for fitted linear models) \"\"\"\n",
    "# See https://www.r-bloggers.com/2011/03/anova-%e2%80%93-type-iiiiii-ss-explained/ for details on ANOVA Type \n",
    "\n",
    "# Perform an ANOVA (analysis of variance)\n",
    "anova_table = sm.stats.anova_lm(model, typ=1)\n",
    "display(anova_table)\n",
    "anova_table = sm.stats.anova_lm(model, typ=2)\n",
    "display(anova_table)\n",
    "anova_table = sm.stats.anova_lm(model, typ=3)\n",
    "display(anova_table)"
   ]
  },
  {
   "cell_type": "code",
   "execution_count": null,
   "id": "73723ff6",
   "metadata": {},
   "outputs": [],
   "source": [
    "\"\"\" Optimising from Obtained Model \"\"\"\n",
    "def model_prediction(x):\n",
    "    df = pd.DataFrame([x], columns=['A','B'])\n",
    "    return model.predict(df)[0]\n",
    "\n",
    "# Initial guess (centre point)\n",
    "x0 = [0, 0]\n",
    "\n",
    "# Bounds for each factor\n",
    "bounds = [(-1, 1)] * 2\n",
    "print(bounds)\n",
    "\n",
    "# Minimise the predicted response\n",
    "res_min = minimize(model_prediction, x0=x0, bounds=bounds)\n",
    "print('Minimum predicted Y at:', res_min.x, 'Predicted Y:', res_min.fun)\n",
    "\n",
    "# Maximise (by minimizing the negative)\n",
    "res_max = minimize(lambda x: -model_prediction(x), x0=x0, bounds=bounds)\n",
    "print('Maximum predicted Y at:', res_max.x, 'Predicted Y:', -res_max.fun)"
   ]
  }
 ],
 "metadata": {
  "kernelspec": {
   "display_name": "base",
   "language": "python",
   "name": "python3"
  },
  "language_info": {
   "codemirror_mode": {
    "name": "ipython",
    "version": 3
   },
   "file_extension": ".py",
   "mimetype": "text/x-python",
   "name": "python",
   "nbconvert_exporter": "python",
   "pygments_lexer": "ipython3",
   "version": "3.11.9"
  }
 },
 "nbformat": 4,
 "nbformat_minor": 5
}
